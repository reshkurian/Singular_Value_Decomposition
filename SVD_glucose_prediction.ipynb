{
 "cells": [
  {
   "cell_type": "markdown",
   "metadata": {},
   "source": [
    "# Singular Value Decomposition (SVD) for dimensionality reduction"
   ]
  },
  {
   "cell_type": "markdown",
   "metadata": {},
   "source": [
    "## Introduction\n",
    "\n",
    "The aim of this project is to predict the value of glucose content in the straw samples from the near-infrared spectroscopic measearements. In this report, Singular Value Decomposition (SVD) is performed to reduce the dimensionality of the dataset and the reduced dataset is introduced into random forest to predict the value of glucose content of the sample. \n",
    "\n",
    "This report is divided into multiple sessions, \n",
    "- Data preparation and exploration: the quality of the data is checked, explorative analysis is done and dimensionality reduction is applied in the session. \n",
    "- Model creation and evaluation: prediction models are created using 70 % of the data, tested the models on 30% of the data. The model evaluation metrics used are Mean Absolute Error, Root Mean Squared Error and R2 value.\n",
    "- Conclusion: The results are summarised.\n"
   ]
  },
  {
   "cell_type": "markdown",
   "metadata": {},
   "source": [
    "## Data preparation and exploration"
   ]
  },
  {
   "cell_type": "code",
   "execution_count": 2,
   "metadata": {},
   "outputs": [],
   "source": [
    "## import necessary packages\n",
    "import pandas as pd\n",
    "from scipy.io import loadmat\n",
    "import seaborn as sns\n",
    "import matplotlib.pyplot as plt\n",
    "from sklearn.decomposition import TruncatedSVD\n",
    "from sklearn.metrics import mean_squared_error, r2_score, mean_absolute_error\n",
    "from sklearn.model_selection import train_test_split\n",
    "from sklearn.ensemble import RandomForestRegressor\n",
    "from sklearn.model_selection import RandomizedSearchCV\n",
    "\n"
   ]
  },
  {
   "cell_type": "code",
   "execution_count": 3,
   "metadata": {},
   "outputs": [
    {
     "data": {
      "text/plain": [
       "(805, 1051)"
      ]
     },
     "execution_count": 3,
     "metadata": {},
     "output_type": "execute_result"
    }
   ],
   "source": [
    "## load data\n",
    "data_dict = loadmat('straw4latentix.mat')\n",
    "data_array = data_dict['Data']\n",
    "\n",
    "data = pd.DataFrame(data_array,\n",
    "                  columns=data_dict['VarNames'],index=data_dict['SampleNames'] )\n",
    "## remove missing data\n",
    "data=data.dropna()\n",
    "## remove spaces in the column names\n",
    "data.columns = data.columns.str.replace(' ','')\n",
    "data.shape\n"
   ]
  },
  {
   "cell_type": "code",
   "execution_count": 4,
   "metadata": {},
   "outputs": [
    {
     "data": {
      "text/html": [
       "<div>\n",
       "<style scoped>\n",
       "    .dataframe tbody tr th:only-of-type {\n",
       "        vertical-align: middle;\n",
       "    }\n",
       "\n",
       "    .dataframe tbody tr th {\n",
       "        vertical-align: top;\n",
       "    }\n",
       "\n",
       "    .dataframe thead th {\n",
       "        text-align: right;\n",
       "    }\n",
       "</style>\n",
       "<table border=\"1\" class=\"dataframe\">\n",
       "  <thead>\n",
       "    <tr style=\"text-align: right;\">\n",
       "      <th></th>\n",
       "      <th>Glucose</th>\n",
       "      <th>400</th>\n",
       "      <th>402</th>\n",
       "      <th>404</th>\n",
       "      <th>406</th>\n",
       "      <th>408</th>\n",
       "      <th>410</th>\n",
       "      <th>412</th>\n",
       "      <th>414</th>\n",
       "      <th>416</th>\n",
       "      <th>...</th>\n",
       "      <th>2480</th>\n",
       "      <th>2482</th>\n",
       "      <th>2484</th>\n",
       "      <th>2486</th>\n",
       "      <th>2488</th>\n",
       "      <th>2490</th>\n",
       "      <th>2492</th>\n",
       "      <th>2494</th>\n",
       "      <th>2496</th>\n",
       "      <th>2498</th>\n",
       "    </tr>\n",
       "  </thead>\n",
       "  <tbody>\n",
       "    <tr>\n",
       "      <th>S07-1-1--2</th>\n",
       "      <td>0.246511</td>\n",
       "      <td>0.524796</td>\n",
       "      <td>0.544383</td>\n",
       "      <td>0.563924</td>\n",
       "      <td>0.579351</td>\n",
       "      <td>0.592710</td>\n",
       "      <td>0.604313</td>\n",
       "      <td>0.613291</td>\n",
       "      <td>0.619849</td>\n",
       "      <td>0.625459</td>\n",
       "      <td>...</td>\n",
       "      <td>0.478467</td>\n",
       "      <td>0.480623</td>\n",
       "      <td>0.482462</td>\n",
       "      <td>0.484044</td>\n",
       "      <td>0.485346</td>\n",
       "      <td>0.486259</td>\n",
       "      <td>0.486837</td>\n",
       "      <td>0.487028</td>\n",
       "      <td>0.487021</td>\n",
       "      <td>0.486748</td>\n",
       "    </tr>\n",
       "    <tr>\n",
       "      <th>S07-2-1--2</th>\n",
       "      <td>0.262637</td>\n",
       "      <td>0.523378</td>\n",
       "      <td>0.542192</td>\n",
       "      <td>0.563364</td>\n",
       "      <td>0.577968</td>\n",
       "      <td>0.591923</td>\n",
       "      <td>0.604311</td>\n",
       "      <td>0.612846</td>\n",
       "      <td>0.619959</td>\n",
       "      <td>0.626117</td>\n",
       "      <td>...</td>\n",
       "      <td>0.484350</td>\n",
       "      <td>0.486585</td>\n",
       "      <td>0.488573</td>\n",
       "      <td>0.490205</td>\n",
       "      <td>0.491446</td>\n",
       "      <td>0.492375</td>\n",
       "      <td>0.493030</td>\n",
       "      <td>0.493293</td>\n",
       "      <td>0.493232</td>\n",
       "      <td>0.493023</td>\n",
       "    </tr>\n",
       "    <tr>\n",
       "      <th>S07-3-1--2</th>\n",
       "      <td>0.229592</td>\n",
       "      <td>0.490013</td>\n",
       "      <td>0.512134</td>\n",
       "      <td>0.533794</td>\n",
       "      <td>0.551275</td>\n",
       "      <td>0.565100</td>\n",
       "      <td>0.578490</td>\n",
       "      <td>0.587710</td>\n",
       "      <td>0.595307</td>\n",
       "      <td>0.602589</td>\n",
       "      <td>...</td>\n",
       "      <td>0.475923</td>\n",
       "      <td>0.478207</td>\n",
       "      <td>0.480053</td>\n",
       "      <td>0.481568</td>\n",
       "      <td>0.482865</td>\n",
       "      <td>0.483788</td>\n",
       "      <td>0.484375</td>\n",
       "      <td>0.484570</td>\n",
       "      <td>0.484543</td>\n",
       "      <td>0.484313</td>\n",
       "    </tr>\n",
       "    <tr>\n",
       "      <th>S07-4-1--2</th>\n",
       "      <td>0.230800</td>\n",
       "      <td>0.529905</td>\n",
       "      <td>0.551151</td>\n",
       "      <td>0.572237</td>\n",
       "      <td>0.589587</td>\n",
       "      <td>0.604449</td>\n",
       "      <td>0.617726</td>\n",
       "      <td>0.626785</td>\n",
       "      <td>0.634827</td>\n",
       "      <td>0.641014</td>\n",
       "      <td>...</td>\n",
       "      <td>0.478666</td>\n",
       "      <td>0.480832</td>\n",
       "      <td>0.482701</td>\n",
       "      <td>0.484350</td>\n",
       "      <td>0.485627</td>\n",
       "      <td>0.486568</td>\n",
       "      <td>0.487219</td>\n",
       "      <td>0.487499</td>\n",
       "      <td>0.487448</td>\n",
       "      <td>0.487216</td>\n",
       "    </tr>\n",
       "    <tr>\n",
       "      <th>S07-5-1--2</th>\n",
       "      <td>0.251905</td>\n",
       "      <td>0.511296</td>\n",
       "      <td>0.530461</td>\n",
       "      <td>0.551822</td>\n",
       "      <td>0.568217</td>\n",
       "      <td>0.581484</td>\n",
       "      <td>0.593503</td>\n",
       "      <td>0.602179</td>\n",
       "      <td>0.609293</td>\n",
       "      <td>0.615125</td>\n",
       "      <td>...</td>\n",
       "      <td>0.495099</td>\n",
       "      <td>0.497431</td>\n",
       "      <td>0.499412</td>\n",
       "      <td>0.501035</td>\n",
       "      <td>0.502360</td>\n",
       "      <td>0.503265</td>\n",
       "      <td>0.503873</td>\n",
       "      <td>0.504135</td>\n",
       "      <td>0.504092</td>\n",
       "      <td>0.503816</td>\n",
       "    </tr>\n",
       "  </tbody>\n",
       "</table>\n",
       "<p>5 rows × 1051 columns</p>\n",
       "</div>"
      ],
      "text/plain": [
       "                Glucose       400       402       404       406       408  \\\n",
       "S07-1-1--2     0.246511  0.524796  0.544383  0.563924  0.579351  0.592710   \n",
       "S07-2-1--2     0.262637  0.523378  0.542192  0.563364  0.577968  0.591923   \n",
       "S07-3-1--2     0.229592  0.490013  0.512134  0.533794  0.551275  0.565100   \n",
       "S07-4-1--2     0.230800  0.529905  0.551151  0.572237  0.589587  0.604449   \n",
       "S07-5-1--2     0.251905  0.511296  0.530461  0.551822  0.568217  0.581484   \n",
       "\n",
       "                    410       412       414       416  ...      2480  \\\n",
       "S07-1-1--2     0.604313  0.613291  0.619849  0.625459  ...  0.478467   \n",
       "S07-2-1--2     0.604311  0.612846  0.619959  0.626117  ...  0.484350   \n",
       "S07-3-1--2     0.578490  0.587710  0.595307  0.602589  ...  0.475923   \n",
       "S07-4-1--2     0.617726  0.626785  0.634827  0.641014  ...  0.478666   \n",
       "S07-5-1--2     0.593503  0.602179  0.609293  0.615125  ...  0.495099   \n",
       "\n",
       "                   2482      2484      2486      2488      2490      2492  \\\n",
       "S07-1-1--2     0.480623  0.482462  0.484044  0.485346  0.486259  0.486837   \n",
       "S07-2-1--2     0.486585  0.488573  0.490205  0.491446  0.492375  0.493030   \n",
       "S07-3-1--2     0.478207  0.480053  0.481568  0.482865  0.483788  0.484375   \n",
       "S07-4-1--2     0.480832  0.482701  0.484350  0.485627  0.486568  0.487219   \n",
       "S07-5-1--2     0.497431  0.499412  0.501035  0.502360  0.503265  0.503873   \n",
       "\n",
       "                   2494      2496      2498  \n",
       "S07-1-1--2     0.487028  0.487021  0.486748  \n",
       "S07-2-1--2     0.493293  0.493232  0.493023  \n",
       "S07-3-1--2     0.484570  0.484543  0.484313  \n",
       "S07-4-1--2     0.487499  0.487448  0.487216  \n",
       "S07-5-1--2     0.504135  0.504092  0.503816  \n",
       "\n",
       "[5 rows x 1051 columns]"
      ]
     },
     "execution_count": 4,
     "metadata": {},
     "output_type": "execute_result"
    }
   ],
   "source": [
    "data.head()"
   ]
  },
  {
   "cell_type": "code",
   "execution_count": 5,
   "metadata": {},
   "outputs": [
    {
     "data": {
      "text/plain": [
       "0"
      ]
     },
     "execution_count": 5,
     "metadata": {},
     "output_type": "execute_result"
    }
   ],
   "source": [
    "## check if there are missing data \n",
    "data.isnull().sum().sum()"
   ]
  },
  {
   "cell_type": "code",
   "execution_count": 22,
   "metadata": {},
   "outputs": [
    {
     "data": {
      "text/plain": [
       "count    805.000000\n",
       "mean       0.225973\n",
       "std        0.034042\n",
       "min        0.141236\n",
       "25%        0.199823\n",
       "50%        0.229967\n",
       "75%        0.251407\n",
       "max        0.329025\n",
       "Name: Glucose, dtype: float64"
      ]
     },
     "execution_count": 22,
     "metadata": {},
     "output_type": "execute_result"
    },
    {
     "data": {
      "image/png": "[encoded data removed]",
      "text/plain": [
       "<Figure size 432x288 with 1 Axes>"
      ]
     },
     "metadata": {
      "needs_background": "light"
     },
     "output_type": "display_data"
    }
   ],
   "source": [
    "## histogram of the target variable\n",
    "\n",
    "ax=data['Glucose'].hist(color='mediumturquoise')\n",
    "ax.set_xlabel(\"Glucose content\")\n",
    "ax.set_ylabel(\"Frequency\")\n",
    "fig = ax.get_figure()\n",
    "fig.savefig('glucose_hist')\n",
    "\n",
    "## get descriptive statistics of the target column\n",
    "data['Glucose'].describe()"
   ]
  },
  {
   "cell_type": "code",
   "execution_count": 36,
   "metadata": {},
   "outputs": [
    {
     "data": {
      "text/html": [
       "<div>\n",
       "<style scoped>\n",
       "    .dataframe tbody tr th:only-of-type {\n",
       "        vertical-align: middle;\n",
       "    }\n",
       "\n",
       "    .dataframe tbody tr th {\n",
       "        vertical-align: top;\n",
       "    }\n",
       "\n",
       "    .dataframe thead th {\n",
       "        text-align: right;\n",
       "    }\n",
       "</style>\n",
       "<table border=\"1\" class=\"dataframe\">\n",
       "  <thead>\n",
       "    <tr style=\"text-align: right;\">\n",
       "      <th></th>\n",
       "      <th>level_0</th>\n",
       "      <th>level_1</th>\n",
       "      <th>0</th>\n",
       "    </tr>\n",
       "  </thead>\n",
       "  <tbody>\n",
       "    <tr>\n",
       "      <th>1053</th>\n",
       "      <td>400</td>\n",
       "      <td>402</td>\n",
       "      <td>0.998538</td>\n",
       "    </tr>\n",
       "    <tr>\n",
       "      <th>1054</th>\n",
       "      <td>400</td>\n",
       "      <td>404</td>\n",
       "      <td>0.993737</td>\n",
       "    </tr>\n",
       "    <tr>\n",
       "      <th>1055</th>\n",
       "      <td>400</td>\n",
       "      <td>406</td>\n",
       "      <td>0.986622</td>\n",
       "    </tr>\n",
       "    <tr>\n",
       "      <th>1056</th>\n",
       "      <td>400</td>\n",
       "      <td>408</td>\n",
       "      <td>0.976602</td>\n",
       "    </tr>\n",
       "    <tr>\n",
       "      <th>1057</th>\n",
       "      <td>400</td>\n",
       "      <td>410</td>\n",
       "      <td>0.962912</td>\n",
       "    </tr>\n",
       "    <tr>\n",
       "      <th>...</th>\n",
       "      <td>...</td>\n",
       "      <td>...</td>\n",
       "      <td>...</td>\n",
       "    </tr>\n",
       "    <tr>\n",
       "      <th>1104595</th>\n",
       "      <td>2498</td>\n",
       "      <td>2488</td>\n",
       "      <td>0.999853</td>\n",
       "    </tr>\n",
       "    <tr>\n",
       "      <th>1104596</th>\n",
       "      <td>2498</td>\n",
       "      <td>2490</td>\n",
       "      <td>0.999890</td>\n",
       "    </tr>\n",
       "    <tr>\n",
       "      <th>1104597</th>\n",
       "      <td>2498</td>\n",
       "      <td>2492</td>\n",
       "      <td>0.999935</td>\n",
       "    </tr>\n",
       "    <tr>\n",
       "      <th>1104598</th>\n",
       "      <td>2498</td>\n",
       "      <td>2494</td>\n",
       "      <td>0.999967</td>\n",
       "    </tr>\n",
       "    <tr>\n",
       "      <th>1104599</th>\n",
       "      <td>2498</td>\n",
       "      <td>2496</td>\n",
       "      <td>0.999989</td>\n",
       "    </tr>\n",
       "  </tbody>\n",
       "</table>\n",
       "<p>195298 rows × 3 columns</p>\n",
       "</div>"
      ],
      "text/plain": [
       "        level_0 level_1         0\n",
       "1053        400     402  0.998538\n",
       "1054        400     404  0.993737\n",
       "1055        400     406  0.986622\n",
       "1056        400     408  0.976602\n",
       "1057        400     410  0.962912\n",
       "...         ...     ...       ...\n",
       "1104595    2498    2488  0.999853\n",
       "1104596    2498    2490  0.999890\n",
       "1104597    2498    2492  0.999935\n",
       "1104598    2498    2494  0.999967\n",
       "1104599    2498    2496  0.999989\n",
       "\n",
       "[195298 rows x 3 columns]"
      ]
     },
     "execution_count": 36,
     "metadata": {},
     "output_type": "execute_result"
    }
   ],
   "source": [
    "## highly correlated variables (above 95%)\n",
    "thr_val=0.95\n",
    "high_cor = data.loc[:,'Glucose':].corr().unstack().reset_index()\n",
    "high_cor=high_cor[(high_cor[0]>thr_val)&(high_cor[0]<1)]\n",
    "high_cor"
   ]
  },
  {
   "cell_type": "code",
   "execution_count": 9,
   "metadata": {},
   "outputs": [],
   "source": [
    "## separate train and test data before SVD\n",
    "\n",
    "##separate independent variables and target variable\n",
    "X= data.loc[:,'400':]\n",
    "y=data.loc[:,'Glucose']\n",
    "\n",
    "## split train test data, 70:30 split\n",
    "X_train, X_test, y_train, y_test = train_test_split(X, y, test_size=0.30, random_state=42)\n",
    "\n"
   ]
  },
  {
   "cell_type": "code",
   "execution_count": 10,
   "metadata": {},
   "outputs": [
    {
     "data": {
      "text/plain": [
       "(563, 10)"
      ]
     },
     "execution_count": 10,
     "metadata": {},
     "output_type": "execute_result"
    }
   ],
   "source": [
    "## do svd on train data and get the top 10 singular vectors\n",
    "\n",
    "svd = TruncatedSVD(n_components=10, n_iter=7, random_state=42)\n",
    "svd.fit(X_train)\n",
    "\n",
    "X_train_svd=svd.fit_transform(X_train, y=None)\n",
    "X_train_svd.shape\n",
    "\n"
   ]
  },
  {
   "cell_type": "code",
   "execution_count": 30,
   "metadata": {},
   "outputs": [
    {
     "data": {
      "image/png": "[encoded data removed]",
      "text/plain": [
       "<Figure size 432x288 with 1 Axes>"
      ]
     },
     "metadata": {
      "needs_background": "light"
     },
     "output_type": "display_data"
    }
   ],
   "source": [
    "## variance explained by the first 10 singular vectors\n",
    "var_explained = svd.explained_variance_ratio_\n",
    "sns.barplot(x=list(range(1,10)),\n",
    "            y=var_explained[:9], color='mediumturquoise')\n",
    "plt.xlabel('Singular Vectors', fontsize=16)\n",
    "plt.ylabel('Variance Explained (%)', fontsize=16)\n",
    "plt.savefig('variance_expl')"
   ]
  },
  {
   "cell_type": "code",
   "execution_count": 24,
   "metadata": {},
   "outputs": [
    {
     "data": {
      "text/plain": [
       "(242, 10)"
      ]
     },
     "execution_count": 24,
     "metadata": {},
     "output_type": "execute_result"
    }
   ],
   "source": [
    "## do the svd transformation on test data\n",
    "X_test_svd=svd.transform(X_test)\n",
    "X_test_svd.shape\n"
   ]
  },
  {
   "cell_type": "markdown",
   "metadata": {},
   "source": [
    "## Model creation and evaluation"
   ]
  },
  {
   "cell_type": "code",
   "execution_count": 25,
   "metadata": {},
   "outputs": [],
   "source": [
    "## model evaluation metrics\n",
    "\n",
    "def eval(actual,prediction):\n",
    "    # Mean absolute error (MAE)\n",
    "    mae = mean_absolute_error(actual, prediction)\n",
    "    # Root mean squared error (RMSE)\n",
    "    rmse = mean_squared_error(actual, prediction,squared=False)\n",
    "    # R-squared scores\n",
    "    r2 = r2_score(actual, prediction)\n",
    "    # Print metrics\n",
    "    return{'Mean Absolute Error': round(mae, 2),\n",
    "          'Root Mean Squared Error': round(rmse, 2),\n",
    "          'R-squared scores': round(r2, 2)}"
   ]
  },
  {
   "cell_type": "markdown",
   "metadata": {},
   "source": [
    "### Randomforest model"
   ]
  },
  {
   "cell_type": "code",
   "execution_count": 40,
   "metadata": {},
   "outputs": [
    {
     "name": "stdout",
     "output_type": "stream",
     "text": [
      "\n",
      "PREDICTION: \n"
     ]
    },
    {
     "data": {
      "text/plain": [
       "{'Mean Absolute Error': 0.02,\n",
       " 'Root Mean Squared Error': 0.02,\n",
       " 'R-squared scores': 0.55}"
      ]
     },
     "execution_count": 40,
     "metadata": {},
     "output_type": "execute_result"
    }
   ],
   "source": [
    "rf = RandomForestRegressor(bootstrap=False, max_features='sqrt', n_estimators=400,random_state=42)\n",
    "\n",
    "## model using the original data (without dimensionality reduction)\n",
    "rf.fit(X_train, y_train)\n",
    "y_pred_rf_original = rf.predict(X_test)\n",
    "\n",
    "# formatting results\n",
    "result_df = pd.DataFrame({'Actual': y_test.values, 'Predicted_nonreduced': y_pred_rf_original})\n",
    "\n",
    "\n",
    "## evaluation metrics\n",
    "print(\"\\nPREDICTION: \")\n",
    "eval(result_df['Actual'],result_df['Predicted_nonreduced'])\n",
    "\n"
   ]
  },
  {
   "cell_type": "code",
   "execution_count": 42,
   "metadata": {},
   "outputs": [
    {
     "name": "stdout",
     "output_type": "stream",
     "text": [
      "\n",
      "PREDICTION: \n"
     ]
    },
    {
     "data": {
      "text/plain": [
       "{'Mean Absolute Error': 0.02,\n",
       " 'Root Mean Squared Error': 0.02,\n",
       " 'R-squared scores': 0.63}"
      ]
     },
     "execution_count": 42,
     "metadata": {},
     "output_type": "execute_result"
    }
   ],
   "source": [
    "## randomforest model using singular values from SVD\n",
    "rf.fit(X_train_svd, y_train)\n",
    "y_pred_rf_svd = rf.predict(X_test_svd)\n",
    "\n",
    "# formatting results\n",
    "\n",
    "result_df['Predicted_svd'] =y_pred_rf_svd\n",
    "\n",
    "\n",
    "## evaluation metrics\n",
    "print(\"\\nPREDICTION: \")\n",
    "eval(result_df['Actual'],result_df['Predicted_svd'])\n",
    "\n"
   ]
  },
  {
   "cell_type": "code",
   "execution_count": 43,
   "metadata": {},
   "outputs": [
    {
     "data": {
      "image/png": "[encoded data removed]",
      "text/plain": [
       "<Figure size 432x288 with 2 Axes>"
      ]
     },
     "metadata": {
      "needs_background": "light"
     },
     "output_type": "display_data"
    }
   ],
   "source": [
    "## plot the results of both models\n",
    "\n",
    "fig, (ax1, ax2) = plt.subplots(ncols=2, sharey=True)\n",
    "sns.regplot(x=\"Actual\", y=\"Predicted_nonreduced\", data=result_df, ax=ax1,color='mediumturquoise')\n",
    "sns.regplot(x=\"Actual\", y=\"Predicted_svd\", data=result_df, ax=ax2,color='mediumturquoise')\n",
    "ax1.set_title(\"Non-reduced dataset\")\n",
    "ax2.set_title(\"Singular Vectors\")\n",
    "fig.savefig('models')\n"
   ]
  }
 ],
 "metadata": {
  "kernelspec": {
   "display_name": "Python 3",
   "language": "python",
   "name": "python3"
  },
  "language_info": {
   "codemirror_mode": {
    "name": "ipython",
    "version": 3
   },
   "file_extension": ".py",
   "mimetype": "text/x-python",
   "name": "python",
   "nbconvert_exporter": "python",
   "pygments_lexer": "ipython3",
   "version": "3.7.9"
  }
 },
 "nbformat": 4,
 "nbformat_minor": 4
}
